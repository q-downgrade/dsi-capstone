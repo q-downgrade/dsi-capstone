{
 "cells": [
  {
   "cell_type": "markdown",
   "metadata": {},
   "source": [
    "This notebook is solely for webscraping information from Board Game Geek. All EDA, as well as the problem statement, can be found in the next notebook."
   ]
  },
  {
   "cell_type": "code",
   "execution_count": 1,
   "metadata": {},
   "outputs": [],
   "source": [
    "import pandas as pd\n",
    "import numpy as np\n",
    "import matplotlib.pyplot as plt\n",
    "import seaborn as sns\n",
    "from bs4 import BeautifulSoup\n",
    "import requests"
   ]
  },
  {
   "cell_type": "code",
   "execution_count": 2,
   "metadata": {},
   "outputs": [],
   "source": [
    "# getting a list of board game mechanics from Board Game Geek\n",
    "# this will help prevent the inclusion of unique mechanics or junk data in the the dataset\n",
    "base_url = 'https://boardgamegeek.com/browse/boardgamemechanic'\n",
    "res = requests.get(base_url)\n",
    "soup = BeautifulSoup(res.content)\n",
    "\n",
    "mechanic = soup.find_all('a')[1:]\n",
    "\n",
    "mechanics_list = [] #making list of the mechanics\n",
    "for line in mechanic:\n",
    "    observation = line.text\n",
    "    mechanics_list.append(observation)\n",
    "\n",
    "mechanics_list = [i for i in mechanics_list if i] # getting rid of null values in the list"
   ]
  },
  {
   "cell_type": "code",
   "execution_count": 3,
   "metadata": {},
   "outputs": [],
   "source": [
    "mechanics_df = pd.DataFrame(mechanics_list, columns = ['mechanics'])"
   ]
  },
  {
   "cell_type": "code",
   "execution_count": 4,
   "metadata": {},
   "outputs": [],
   "source": [
    "# getting a list ofboard game categories from Board Game Geek\n",
    "# this will help prevent the inclusion of unique categories or junk data in the the dataset\n",
    "base_url = 'https://boardgamegeek.com/browse/boardgamecategory'\n",
    "res = requests.get(base_url)\n",
    "soup = BeautifulSoup(res.content)\n",
    "category = soup.find_all('a')[1:]\n",
    "\n",
    "categories_list = []  #creating a list of categories from the website\n",
    "for line in category:\n",
    "    observation = line.text\n",
    "    categories_list.append(observation)\n",
    "\n",
    "categories_list = [i for i in categories_list\n",
    "                   if i]  # getting rid of null values in the list"
   ]
  },
  {
   "cell_type": "code",
   "execution_count": 5,
   "metadata": {},
   "outputs": [],
   "source": [
    "categories_df = pd.DataFrame(categories_list, columns = ['categories'])"
   ]
  },
  {
   "cell_type": "code",
   "execution_count": 6,
   "metadata": {},
   "outputs": [],
   "source": [
    "mechanics_df.to_csv('../data/mechanics.csv')\n",
    "categories_df.to_csv('../data/categories.csv')"
   ]
  },
  {
   "cell_type": "code",
   "execution_count": null,
   "metadata": {},
   "outputs": [],
   "source": []
  }
 ],
 "metadata": {
  "kernelspec": {
   "display_name": "Python 3",
   "language": "python",
   "name": "python3"
  },
  "language_info": {
   "codemirror_mode": {
    "name": "ipython",
    "version": 3
   },
   "file_extension": ".py",
   "mimetype": "text/x-python",
   "name": "python",
   "nbconvert_exporter": "python",
   "pygments_lexer": "ipython3",
   "version": "3.7.6"
  },
  "toc": {
   "base_numbering": 1,
   "nav_menu": {},
   "number_sections": true,
   "sideBar": true,
   "skip_h1_title": false,
   "title_cell": "Table of Contents",
   "title_sidebar": "Contents",
   "toc_cell": false,
   "toc_position": {},
   "toc_section_display": true,
   "toc_window_display": false
  },
  "varInspector": {
   "cols": {
    "lenName": 16,
    "lenType": 16,
    "lenVar": 40
   },
   "kernels_config": {
    "python": {
     "delete_cmd_postfix": "",
     "delete_cmd_prefix": "del ",
     "library": "var_list.py",
     "varRefreshCmd": "print(var_dic_list())"
    },
    "r": {
     "delete_cmd_postfix": ") ",
     "delete_cmd_prefix": "rm(",
     "library": "var_list.r",
     "varRefreshCmd": "cat(var_dic_list()) "
    }
   },
   "types_to_exclude": [
    "module",
    "function",
    "builtin_function_or_method",
    "instance",
    "_Feature"
   ],
   "window_display": false
  }
 },
 "nbformat": 4,
 "nbformat_minor": 4
}
